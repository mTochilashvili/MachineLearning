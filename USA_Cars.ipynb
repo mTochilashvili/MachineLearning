{
 "cells": [
  {
   "cell_type": "code",
   "execution_count": 1,
   "id": "ee5477ee-de3b-4563-9d02-3bf89befbaaf",
   "metadata": {
    "id": "ee5477ee-de3b-4563-9d02-3bf89befbaaf"
   },
   "outputs": [
    {
     "name": "stderr",
     "output_type": "stream",
     "text": [
      "C:\\Users\\mrmak\\AppData\\Local\\Temp\\ipykernel_16716\\4192095167.py:4: DeprecationWarning: \n",
      "Pyarrow will become a required dependency of pandas in the next major release of pandas (pandas 3.0),\n",
      "(to allow more performant data types, such as the Arrow string type, and better interoperability with other libraries)\n",
      "but was not found to be installed on your system.\n",
      "If this would cause problems for you,\n",
      "please provide us feedback at https://github.com/pandas-dev/pandas/issues/54466\n",
      "        \n",
      "  import pandas as pd\n"
     ]
    }
   ],
   "source": [
    "import numpy as np\n",
    "import matplotlib.pyplot as plt\n",
    "%matplotlib inline\n",
    "import pandas as pd\n",
    "import seaborn as sns\n",
    "import sklearn"
   ]
  },
  {
   "cell_type": "markdown",
   "id": "0b24eff6",
   "metadata": {
    "id": "0b24eff6"
   },
   "source": [
    "# 0. Описание задачи\n",
    "\n",
    " Определение диапозона цен машин при известных параметрах: бренда, модели, года выпуска, цвета и т.д."
   ]
  },
  {
   "cell_type": "markdown",
   "id": "27d5b6de",
   "metadata": {
    "id": "27d5b6de"
   },
   "source": [
    "# 1. Загрузка и чтение данных "
   ]
  },
  {
   "cell_type": "code",
   "execution_count": 2,
   "id": "fda84c54-3300-4bc3-bc46-256d77af2cbf",
   "metadata": {
    "colab": {
     "base_uri": "https://localhost:8080/"
    },
    "id": "fda84c54-3300-4bc3-bc46-256d77af2cbf",
    "outputId": "9691c88f-532f-448f-9856-92e2b632b936"
   },
   "outputs": [
    {
     "data": {
      "text/plain": [
       "(2499, 13)"
      ]
     },
     "execution_count": 2,
     "metadata": {},
     "output_type": "execute_result"
    }
   ],
   "source": [
    "url = \"https://raw.githubusercontent.com/mTochilashvili/MachineLearning/main/BD/USA_cars_datasets.csv\"\n",
    "data_raw = pd.read_csv(url)\n",
    "data = pd.read_csv(url)\n",
    "data_raw.shape"
   ]
  },
  {
   "cell_type": "markdown",
   "id": "bbe70b36",
   "metadata": {
    "id": "bbe70b36"
   },
   "source": [
    "Таблица содержит данные о 2499 брендах машин с описанием 13 параметров"
   ]
  },
  {
   "cell_type": "code",
   "execution_count": 3,
   "id": "bee799d1-8535-4c12-86d5-a4d752cd938e",
   "metadata": {
    "colab": {
     "base_uri": "https://localhost:8080/",
     "height": 206
    },
    "id": "bee799d1-8535-4c12-86d5-a4d752cd938e",
    "outputId": "2e9b393d-c009-47cf-fb1c-3e90a143ef59"
   },
   "outputs": [
    {
     "data": {
      "text/html": [
       "<div>\n",
       "<style scoped>\n",
       "    .dataframe tbody tr th:only-of-type {\n",
       "        vertical-align: middle;\n",
       "    }\n",
       "\n",
       "    .dataframe tbody tr th {\n",
       "        vertical-align: top;\n",
       "    }\n",
       "\n",
       "    .dataframe thead th {\n",
       "        text-align: right;\n",
       "    }\n",
       "</style>\n",
       "<table border=\"1\" class=\"dataframe\">\n",
       "  <thead>\n",
       "    <tr style=\"text-align: right;\">\n",
       "      <th></th>\n",
       "      <th>Unnamed: 0</th>\n",
       "      <th>price</th>\n",
       "      <th>brand</th>\n",
       "      <th>model</th>\n",
       "      <th>year</th>\n",
       "      <th>title_status</th>\n",
       "      <th>mileage</th>\n",
       "      <th>color</th>\n",
       "      <th>vin</th>\n",
       "      <th>lot</th>\n",
       "      <th>state</th>\n",
       "      <th>country</th>\n",
       "      <th>condition</th>\n",
       "    </tr>\n",
       "  </thead>\n",
       "  <tbody>\n",
       "    <tr>\n",
       "      <th>0</th>\n",
       "      <td>0</td>\n",
       "      <td>6300</td>\n",
       "      <td>toyota</td>\n",
       "      <td>cruiser</td>\n",
       "      <td>2008</td>\n",
       "      <td>clean vehicle</td>\n",
       "      <td>274117.0</td>\n",
       "      <td>black</td>\n",
       "      <td>jtezu11f88k007763</td>\n",
       "      <td>159348797</td>\n",
       "      <td>new jersey</td>\n",
       "      <td>usa</td>\n",
       "      <td>10 days left</td>\n",
       "    </tr>\n",
       "    <tr>\n",
       "      <th>1</th>\n",
       "      <td>1</td>\n",
       "      <td>2899</td>\n",
       "      <td>ford</td>\n",
       "      <td>se</td>\n",
       "      <td>2011</td>\n",
       "      <td>clean vehicle</td>\n",
       "      <td>190552.0</td>\n",
       "      <td>silver</td>\n",
       "      <td>2fmdk3gc4bbb02217</td>\n",
       "      <td>166951262</td>\n",
       "      <td>tennessee</td>\n",
       "      <td>usa</td>\n",
       "      <td>6 days left</td>\n",
       "    </tr>\n",
       "    <tr>\n",
       "      <th>2</th>\n",
       "      <td>2</td>\n",
       "      <td>5350</td>\n",
       "      <td>dodge</td>\n",
       "      <td>mpv</td>\n",
       "      <td>2018</td>\n",
       "      <td>clean vehicle</td>\n",
       "      <td>39590.0</td>\n",
       "      <td>silver</td>\n",
       "      <td>3c4pdcgg5jt346413</td>\n",
       "      <td>167655728</td>\n",
       "      <td>georgia</td>\n",
       "      <td>usa</td>\n",
       "      <td>2 days left</td>\n",
       "    </tr>\n",
       "    <tr>\n",
       "      <th>3</th>\n",
       "      <td>3</td>\n",
       "      <td>25000</td>\n",
       "      <td>ford</td>\n",
       "      <td>door</td>\n",
       "      <td>2014</td>\n",
       "      <td>clean vehicle</td>\n",
       "      <td>64146.0</td>\n",
       "      <td>blue</td>\n",
       "      <td>1ftfw1et4efc23745</td>\n",
       "      <td>167753855</td>\n",
       "      <td>virginia</td>\n",
       "      <td>usa</td>\n",
       "      <td>22 hours left</td>\n",
       "    </tr>\n",
       "    <tr>\n",
       "      <th>4</th>\n",
       "      <td>4</td>\n",
       "      <td>27700</td>\n",
       "      <td>chevrolet</td>\n",
       "      <td>1500</td>\n",
       "      <td>2018</td>\n",
       "      <td>clean vehicle</td>\n",
       "      <td>6654.0</td>\n",
       "      <td>red</td>\n",
       "      <td>3gcpcrec2jg473991</td>\n",
       "      <td>167763266</td>\n",
       "      <td>florida</td>\n",
       "      <td>usa</td>\n",
       "      <td>22 hours left</td>\n",
       "    </tr>\n",
       "  </tbody>\n",
       "</table>\n",
       "</div>"
      ],
      "text/plain": [
       "   Unnamed: 0  price      brand    model  year   title_status   mileage  \\\n",
       "0           0   6300     toyota  cruiser  2008  clean vehicle  274117.0   \n",
       "1           1   2899       ford       se  2011  clean vehicle  190552.0   \n",
       "2           2   5350      dodge      mpv  2018  clean vehicle   39590.0   \n",
       "3           3  25000       ford     door  2014  clean vehicle   64146.0   \n",
       "4           4  27700  chevrolet     1500  2018  clean vehicle    6654.0   \n",
       "\n",
       "    color                  vin        lot       state country      condition  \n",
       "0   black    jtezu11f88k007763  159348797  new jersey     usa   10 days left  \n",
       "1  silver    2fmdk3gc4bbb02217  166951262   tennessee     usa    6 days left  \n",
       "2  silver    3c4pdcgg5jt346413  167655728     georgia     usa    2 days left  \n",
       "3    blue    1ftfw1et4efc23745  167753855    virginia     usa  22 hours left  \n",
       "4     red    3gcpcrec2jg473991  167763266     florida     usa  22 hours left  "
      ]
     },
     "execution_count": 3,
     "metadata": {},
     "output_type": "execute_result"
    }
   ],
   "source": [
    "data_raw.head()"
   ]
  },
  {
   "cell_type": "markdown",
   "id": "ed966f26",
   "metadata": {
    "id": "ed966f26"
   },
   "source": [
    "Выведем все признаки из датасета"
   ]
  },
  {
   "cell_type": "code",
   "execution_count": 4,
   "id": "b74e5f5a",
   "metadata": {
    "colab": {
     "base_uri": "https://localhost:8080/"
    },
    "id": "b74e5f5a",
    "outputId": "1b66bd6a-6793-41e8-fc6a-d7d1d0c8cf14"
   },
   "outputs": [
    {
     "data": {
      "text/plain": [
       "Index(['Unnamed: 0', 'price', 'brand', 'model', 'year', 'title_status',\n",
       "       'mileage', 'color', 'vin', 'lot', 'state', 'country', 'condition'],\n",
       "      dtype='object')"
      ]
     },
     "execution_count": 4,
     "metadata": {},
     "output_type": "execute_result"
    }
   ],
   "source": [
    "data_raw.columns"
   ]
  },
  {
   "cell_type": "markdown",
   "id": "ec90b650",
   "metadata": {
    "id": "ec90b650"
   },
   "source": [
    "Удалим ненужные признаки"
   ]
  },
  {
   "cell_type": "code",
   "execution_count": 5,
   "id": "d9456493",
   "metadata": {
    "id": "d9456493"
   },
   "outputs": [],
   "source": [
    "data_raw.drop(['Unnamed: 0', 'vin', 'lot', 'condition'], axis=1, inplace = True)"
   ]
  },
  {
   "cell_type": "markdown",
   "id": "74024ecf",
   "metadata": {
    "id": "74024ecf"
   },
   "source": [
    "Признаки:\n",
    "    \n",
    "    1. Price - цена машин\n",
    "    2. Brand - бренд машины \n",
    "    3. Model - модель \n",
    "    4. Year - год выпуска\n",
    "    5. title_status - показывает статус машины (clean vehicle - нет случаев с авариями, salvage insurance - страхование от аварийного восстановления)\n",
    "    6. mileage - пробег\n",
    "    7. color - цвет машины \n",
    "    8. vin - это идентификационной номер автомобиля или другого транспортного средства, состоит из 17 символов\n",
    "    9. lot - это идентификационный номер, присвоенный определенному количеству или партии материала от одного производителя. \n",
    "    Для автомобилей номер партии объединяется с серийным номером для формирования идентификационного номера транспортного средства.\n",
    "    10. state - штат \n",
    "    11. country - страна\n",
    "    12. condition - статус \n"
   ]
  },
  {
   "cell_type": "markdown",
   "id": "bad75e8c",
   "metadata": {
    "id": "bad75e8c"
   },
   "source": [
    "Так как мы хотим определить цену, посмотрим на значения в этом столбце."
   ]
  },
  {
   "cell_type": "code",
   "execution_count": 6,
   "id": "ff9d4b78",
   "metadata": {
    "colab": {
     "base_uri": "https://localhost:8080/"
    },
    "id": "ff9d4b78",
    "outputId": "fd6382c3-f05a-4d1f-e736-14e0d891f46a"
   },
   "outputs": [
    {
     "data": {
      "text/plain": [
       "0        6300\n",
       "1        2899\n",
       "2        5350\n",
       "3       25000\n",
       "4       27700\n",
       "        ...  \n",
       "2494     7800\n",
       "2495     9200\n",
       "2496     9200\n",
       "2497     9200\n",
       "2498     9200\n",
       "Name: price, Length: 2499, dtype: int64"
      ]
     },
     "execution_count": 6,
     "metadata": {},
     "output_type": "execute_result"
    }
   ],
   "source": [
    "data_raw['price']"
   ]
  },
  {
   "cell_type": "markdown",
   "id": "c6ece690",
   "metadata": {
    "id": "c6ece690"
   },
   "source": [
    "Создадим бинарный признак `'binary_price'`, чтобы разделить цену по диапозонам выше или ниже 42450."
   ]
  },
  {
   "cell_type": "code",
   "execution_count": 7,
   "id": "0088c5b8",
   "metadata": {
    "colab": {
     "base_uri": "https://localhost:8080/",
     "height": 424
    },
    "id": "0088c5b8",
    "outputId": "6b866e94-d51f-43d8-bdca-b71334b6172b"
   },
   "outputs": [
    {
     "data": {
      "text/html": [
       "<div>\n",
       "<style scoped>\n",
       "    .dataframe tbody tr th:only-of-type {\n",
       "        vertical-align: middle;\n",
       "    }\n",
       "\n",
       "    .dataframe tbody tr th {\n",
       "        vertical-align: top;\n",
       "    }\n",
       "\n",
       "    .dataframe thead th {\n",
       "        text-align: right;\n",
       "    }\n",
       "</style>\n",
       "<table border=\"1\" class=\"dataframe\">\n",
       "  <thead>\n",
       "    <tr style=\"text-align: right;\">\n",
       "      <th></th>\n",
       "      <th>price</th>\n",
       "      <th>binary_price</th>\n",
       "    </tr>\n",
       "  </thead>\n",
       "  <tbody>\n",
       "    <tr>\n",
       "      <th>0</th>\n",
       "      <td>6300</td>\n",
       "      <td>0</td>\n",
       "    </tr>\n",
       "    <tr>\n",
       "      <th>1</th>\n",
       "      <td>2899</td>\n",
       "      <td>0</td>\n",
       "    </tr>\n",
       "    <tr>\n",
       "      <th>2</th>\n",
       "      <td>5350</td>\n",
       "      <td>0</td>\n",
       "    </tr>\n",
       "    <tr>\n",
       "      <th>3</th>\n",
       "      <td>25000</td>\n",
       "      <td>0</td>\n",
       "    </tr>\n",
       "    <tr>\n",
       "      <th>4</th>\n",
       "      <td>27700</td>\n",
       "      <td>0</td>\n",
       "    </tr>\n",
       "    <tr>\n",
       "      <th>...</th>\n",
       "      <td>...</td>\n",
       "      <td>...</td>\n",
       "    </tr>\n",
       "    <tr>\n",
       "      <th>2494</th>\n",
       "      <td>7800</td>\n",
       "      <td>0</td>\n",
       "    </tr>\n",
       "    <tr>\n",
       "      <th>2495</th>\n",
       "      <td>9200</td>\n",
       "      <td>0</td>\n",
       "    </tr>\n",
       "    <tr>\n",
       "      <th>2496</th>\n",
       "      <td>9200</td>\n",
       "      <td>0</td>\n",
       "    </tr>\n",
       "    <tr>\n",
       "      <th>2497</th>\n",
       "      <td>9200</td>\n",
       "      <td>0</td>\n",
       "    </tr>\n",
       "    <tr>\n",
       "      <th>2498</th>\n",
       "      <td>9200</td>\n",
       "      <td>0</td>\n",
       "    </tr>\n",
       "  </tbody>\n",
       "</table>\n",
       "<p>2499 rows × 2 columns</p>\n",
       "</div>"
      ],
      "text/plain": [
       "      price  binary_price\n",
       "0      6300             0\n",
       "1      2899             0\n",
       "2      5350             0\n",
       "3     25000             0\n",
       "4     27700             0\n",
       "...     ...           ...\n",
       "2494   7800             0\n",
       "2495   9200             0\n",
       "2496   9200             0\n",
       "2497   9200             0\n",
       "2498   9200             0\n",
       "\n",
       "[2499 rows x 2 columns]"
      ]
     },
     "execution_count": 7,
     "metadata": {},
     "output_type": "execute_result"
    }
   ],
   "source": [
    "data_raw['binary_price'] = np.where(data_raw['price'] >= 42450, 1, 0)\n",
    "data_raw[['price', 'binary_price']]"
   ]
  },
  {
   "cell_type": "markdown",
   "id": "b90d0eae",
   "metadata": {
    "id": "b90d0eae"
   },
   "source": [
    "Столбцы `'brand'`, `'country'` и `'title_status'` содержат категориальные значения. Пока они имеют тип `'Object`'. Заменим тип на специальный, предназначенный для хранения категориальных значений:"
   ]
  },
  {
   "cell_type": "code",
   "execution_count": 8,
   "id": "198035f2",
   "metadata": {
    "colab": {
     "base_uri": "https://localhost:8080/"
    },
    "id": "198035f2",
    "outputId": "749cd772-6c07-43e9-866f-5bba652741e1"
   },
   "outputs": [
    {
     "data": {
      "text/plain": [
       "CategoricalDtype(categories=['acura', 'audi', 'bmw', 'buick', 'cadillac', 'chevrolet',\n",
       "                  'chrysler', 'dodge', 'ford', 'gmc', 'harley-davidson',\n",
       "                  'heartland', 'honda', 'hyundai', 'infiniti', 'jaguar',\n",
       "                  'jeep', 'kia', 'land', 'lexus', 'lincoln', 'maserati',\n",
       "                  'mazda', 'mercedes-benz', 'nissan', 'peterbilt', 'ram',\n",
       "                  'toyota'],\n",
       ", ordered=False, categories_dtype=object)"
      ]
     },
     "execution_count": 8,
     "metadata": {},
     "output_type": "execute_result"
    }
   ],
   "source": [
    "data_raw['brand'] = data_raw['brand'].astype('category')\n",
    "data_raw['brand'].dtype"
   ]
  },
  {
   "cell_type": "code",
   "execution_count": 9,
   "id": "7b178d7e",
   "metadata": {
    "colab": {
     "base_uri": "https://localhost:8080/"
    },
    "id": "7b178d7e",
    "outputId": "df80a68d-369e-4a43-cf4a-7fa38c920d9f"
   },
   "outputs": [
    {
     "data": {
      "text/plain": [
       "CategoricalDtype(categories=['clean vehicle', 'salvage insurance'], ordered=False, categories_dtype=object)"
      ]
     },
     "execution_count": 9,
     "metadata": {},
     "output_type": "execute_result"
    }
   ],
   "source": [
    "data_raw['title_status'] = data_raw['title_status'].astype('category')\n",
    "data_raw['title_status'].dtype"
   ]
  },
  {
   "cell_type": "code",
   "execution_count": 10,
   "id": "67d3dbb3",
   "metadata": {
    "colab": {
     "base_uri": "https://localhost:8080/"
    },
    "id": "67d3dbb3",
    "outputId": "c247b968-e84d-4e76-945c-81def4b3e3fd"
   },
   "outputs": [
    {
     "data": {
      "text/plain": [
       "CategoricalDtype(categories=[' canada', ' usa'], ordered=False, categories_dtype=object)"
      ]
     },
     "execution_count": 10,
     "metadata": {},
     "output_type": "execute_result"
    }
   ],
   "source": [
    "data_raw['country'] = data_raw['country'].astype('category')\n",
    "data_raw['country'].dtype"
   ]
  },
  {
   "cell_type": "markdown",
   "id": "39fcbbc3",
   "metadata": {
    "id": "39fcbbc3"
   },
   "source": [
    "## 2. Визуализация и описательная статистика"
   ]
  },
  {
   "cell_type": "markdown",
   "id": "cfaa1758",
   "metadata": {
    "id": "cfaa1758"
   },
   "source": [
    "Получим информацию о признаках."
   ]
  },
  {
   "cell_type": "code",
   "execution_count": 11,
   "id": "c837a8d9-5e03-4243-a35d-635935f5f67c",
   "metadata": {
    "colab": {
     "base_uri": "https://localhost:8080/",
     "height": 300
    },
    "id": "c837a8d9-5e03-4243-a35d-635935f5f67c",
    "outputId": "39892fd1-17a7-4c46-8c56-99a87c769e49",
    "scrolled": true
   },
   "outputs": [
    {
     "data": {
      "text/html": [
       "<div>\n",
       "<style scoped>\n",
       "    .dataframe tbody tr th:only-of-type {\n",
       "        vertical-align: middle;\n",
       "    }\n",
       "\n",
       "    .dataframe tbody tr th {\n",
       "        vertical-align: top;\n",
       "    }\n",
       "\n",
       "    .dataframe thead th {\n",
       "        text-align: right;\n",
       "    }\n",
       "</style>\n",
       "<table border=\"1\" class=\"dataframe\">\n",
       "  <thead>\n",
       "    <tr style=\"text-align: right;\">\n",
       "      <th></th>\n",
       "      <th>price</th>\n",
       "      <th>year</th>\n",
       "      <th>mileage</th>\n",
       "      <th>binary_price</th>\n",
       "    </tr>\n",
       "  </thead>\n",
       "  <tbody>\n",
       "    <tr>\n",
       "      <th>count</th>\n",
       "      <td>2499.000000</td>\n",
       "      <td>2499.000000</td>\n",
       "      <td>2.499000e+03</td>\n",
       "      <td>2499.000000</td>\n",
       "    </tr>\n",
       "    <tr>\n",
       "      <th>mean</th>\n",
       "      <td>18767.671469</td>\n",
       "      <td>2016.714286</td>\n",
       "      <td>5.229869e+04</td>\n",
       "      <td>0.049620</td>\n",
       "    </tr>\n",
       "    <tr>\n",
       "      <th>std</th>\n",
       "      <td>12116.094936</td>\n",
       "      <td>3.442656</td>\n",
       "      <td>5.970552e+04</td>\n",
       "      <td>0.217202</td>\n",
       "    </tr>\n",
       "    <tr>\n",
       "      <th>min</th>\n",
       "      <td>0.000000</td>\n",
       "      <td>1973.000000</td>\n",
       "      <td>0.000000e+00</td>\n",
       "      <td>0.000000</td>\n",
       "    </tr>\n",
       "    <tr>\n",
       "      <th>25%</th>\n",
       "      <td>10200.000000</td>\n",
       "      <td>2016.000000</td>\n",
       "      <td>2.146650e+04</td>\n",
       "      <td>0.000000</td>\n",
       "    </tr>\n",
       "    <tr>\n",
       "      <th>50%</th>\n",
       "      <td>16900.000000</td>\n",
       "      <td>2018.000000</td>\n",
       "      <td>3.536500e+04</td>\n",
       "      <td>0.000000</td>\n",
       "    </tr>\n",
       "    <tr>\n",
       "      <th>75%</th>\n",
       "      <td>25555.500000</td>\n",
       "      <td>2019.000000</td>\n",
       "      <td>6.347250e+04</td>\n",
       "      <td>0.000000</td>\n",
       "    </tr>\n",
       "    <tr>\n",
       "      <th>max</th>\n",
       "      <td>84900.000000</td>\n",
       "      <td>2020.000000</td>\n",
       "      <td>1.017936e+06</td>\n",
       "      <td>1.000000</td>\n",
       "    </tr>\n",
       "  </tbody>\n",
       "</table>\n",
       "</div>"
      ],
      "text/plain": [
       "              price         year       mileage  binary_price\n",
       "count   2499.000000  2499.000000  2.499000e+03   2499.000000\n",
       "mean   18767.671469  2016.714286  5.229869e+04      0.049620\n",
       "std    12116.094936     3.442656  5.970552e+04      0.217202\n",
       "min        0.000000  1973.000000  0.000000e+00      0.000000\n",
       "25%    10200.000000  2016.000000  2.146650e+04      0.000000\n",
       "50%    16900.000000  2018.000000  3.536500e+04      0.000000\n",
       "75%    25555.500000  2019.000000  6.347250e+04      0.000000\n",
       "max    84900.000000  2020.000000  1.017936e+06      1.000000"
      ]
     },
     "execution_count": 11,
     "metadata": {},
     "output_type": "execute_result"
    }
   ],
   "source": [
    "data_raw.describe()"
   ]
  },
  {
   "cell_type": "markdown",
   "id": "5f68eb0f",
   "metadata": {
    "id": "5f68eb0f"
   },
   "source": [
    "По умолчанию метод выше дает информацию только о количественных признаках.\n",
    "Получим информацию о категориальных:"
   ]
  },
  {
   "cell_type": "code",
   "execution_count": 12,
   "id": "b4c20a57",
   "metadata": {
    "colab": {
     "base_uri": "https://localhost:8080/",
     "height": 175
    },
    "id": "b4c20a57",
    "outputId": "60f41541-2290-47cb-b0d3-45a1704d7998"
   },
   "outputs": [
    {
     "data": {
      "text/html": [
       "<div>\n",
       "<style scoped>\n",
       "    .dataframe tbody tr th:only-of-type {\n",
       "        vertical-align: middle;\n",
       "    }\n",
       "\n",
       "    .dataframe tbody tr th {\n",
       "        vertical-align: top;\n",
       "    }\n",
       "\n",
       "    .dataframe thead th {\n",
       "        text-align: right;\n",
       "    }\n",
       "</style>\n",
       "<table border=\"1\" class=\"dataframe\">\n",
       "  <thead>\n",
       "    <tr style=\"text-align: right;\">\n",
       "      <th></th>\n",
       "      <th>brand</th>\n",
       "      <th>title_status</th>\n",
       "      <th>country</th>\n",
       "    </tr>\n",
       "  </thead>\n",
       "  <tbody>\n",
       "    <tr>\n",
       "      <th>count</th>\n",
       "      <td>2499</td>\n",
       "      <td>2499</td>\n",
       "      <td>2499</td>\n",
       "    </tr>\n",
       "    <tr>\n",
       "      <th>unique</th>\n",
       "      <td>28</td>\n",
       "      <td>2</td>\n",
       "      <td>2</td>\n",
       "    </tr>\n",
       "    <tr>\n",
       "      <th>top</th>\n",
       "      <td>ford</td>\n",
       "      <td>clean vehicle</td>\n",
       "      <td>usa</td>\n",
       "    </tr>\n",
       "    <tr>\n",
       "      <th>freq</th>\n",
       "      <td>1235</td>\n",
       "      <td>2336</td>\n",
       "      <td>2492</td>\n",
       "    </tr>\n",
       "  </tbody>\n",
       "</table>\n",
       "</div>"
      ],
      "text/plain": [
       "       brand   title_status country\n",
       "count   2499           2499    2499\n",
       "unique    28              2       2\n",
       "top     ford  clean vehicle     usa\n",
       "freq    1235           2336    2492"
      ]
     },
     "execution_count": 12,
     "metadata": {},
     "output_type": "execute_result"
    }
   ],
   "source": [
    "data_raw.describe(include=['category'])"
   ]
  },
  {
   "cell_type": "markdown",
   "id": "e92ac248",
   "metadata": {
    "id": "e92ac248"
   },
   "source": [
    "Вычислим матрицу корреляции для количественных признаков и визуализируем её образ."
   ]
  },
  {
   "cell_type": "code",
   "execution_count": 13,
   "id": "494203fc-5de7-4f25-b7a8-5b87e0827691",
   "metadata": {
    "colab": {
     "base_uri": "https://localhost:8080/",
     "height": 175
    },
    "id": "494203fc-5de7-4f25-b7a8-5b87e0827691",
    "outputId": "8d3b580a-f5cb-4ce4-bbef-735c74cfe87f"
   },
   "outputs": [
    {
     "ename": "ValueError",
     "evalue": "could not convert string to float: 'cruiser'",
     "output_type": "error",
     "traceback": [
      "\u001b[1;31m---------------------------------------------------------------------------\u001b[0m",
      "\u001b[1;31mValueError\u001b[0m                                Traceback (most recent call last)",
      "Cell \u001b[1;32mIn[13], line 1\u001b[0m\n\u001b[1;32m----> 1\u001b[0m corr_mat \u001b[38;5;241m=\u001b[39m \u001b[43mdata_raw\u001b[49m\u001b[38;5;241;43m.\u001b[39;49m\u001b[43mcorr\u001b[49m\u001b[43m(\u001b[49m\u001b[43m)\u001b[49m\n\u001b[0;32m      2\u001b[0m corr_mat\n",
      "File \u001b[1;32m~\\AppData\\Local\\Programs\\Python\\Python311\\Lib\\site-packages\\pandas\\core\\frame.py:11022\u001b[0m, in \u001b[0;36mDataFrame.corr\u001b[1;34m(self, method, min_periods, numeric_only)\u001b[0m\n\u001b[0;32m  11020\u001b[0m cols \u001b[38;5;241m=\u001b[39m data\u001b[38;5;241m.\u001b[39mcolumns\n\u001b[0;32m  11021\u001b[0m idx \u001b[38;5;241m=\u001b[39m cols\u001b[38;5;241m.\u001b[39mcopy()\n\u001b[1;32m> 11022\u001b[0m mat \u001b[38;5;241m=\u001b[39m \u001b[43mdata\u001b[49m\u001b[38;5;241;43m.\u001b[39;49m\u001b[43mto_numpy\u001b[49m\u001b[43m(\u001b[49m\u001b[43mdtype\u001b[49m\u001b[38;5;241;43m=\u001b[39;49m\u001b[38;5;28;43mfloat\u001b[39;49m\u001b[43m,\u001b[49m\u001b[43m \u001b[49m\u001b[43mna_value\u001b[49m\u001b[38;5;241;43m=\u001b[39;49m\u001b[43mnp\u001b[49m\u001b[38;5;241;43m.\u001b[39;49m\u001b[43mnan\u001b[49m\u001b[43m,\u001b[49m\u001b[43m \u001b[49m\u001b[43mcopy\u001b[49m\u001b[38;5;241;43m=\u001b[39;49m\u001b[38;5;28;43;01mFalse\u001b[39;49;00m\u001b[43m)\u001b[49m\n\u001b[0;32m  11024\u001b[0m \u001b[38;5;28;01mif\u001b[39;00m method \u001b[38;5;241m==\u001b[39m \u001b[38;5;124m\"\u001b[39m\u001b[38;5;124mpearson\u001b[39m\u001b[38;5;124m\"\u001b[39m:\n\u001b[0;32m  11025\u001b[0m     correl \u001b[38;5;241m=\u001b[39m libalgos\u001b[38;5;241m.\u001b[39mnancorr(mat, minp\u001b[38;5;241m=\u001b[39mmin_periods)\n",
      "File \u001b[1;32m~\\AppData\\Local\\Programs\\Python\\Python311\\Lib\\site-packages\\pandas\\core\\frame.py:1981\u001b[0m, in \u001b[0;36mDataFrame.to_numpy\u001b[1;34m(self, dtype, copy, na_value)\u001b[0m\n\u001b[0;32m   1979\u001b[0m \u001b[38;5;28;01mif\u001b[39;00m dtype \u001b[38;5;129;01mis\u001b[39;00m \u001b[38;5;129;01mnot\u001b[39;00m \u001b[38;5;28;01mNone\u001b[39;00m:\n\u001b[0;32m   1980\u001b[0m     dtype \u001b[38;5;241m=\u001b[39m np\u001b[38;5;241m.\u001b[39mdtype(dtype)\n\u001b[1;32m-> 1981\u001b[0m result \u001b[38;5;241m=\u001b[39m \u001b[38;5;28;43mself\u001b[39;49m\u001b[38;5;241;43m.\u001b[39;49m\u001b[43m_mgr\u001b[49m\u001b[38;5;241;43m.\u001b[39;49m\u001b[43mas_array\u001b[49m\u001b[43m(\u001b[49m\u001b[43mdtype\u001b[49m\u001b[38;5;241;43m=\u001b[39;49m\u001b[43mdtype\u001b[49m\u001b[43m,\u001b[49m\u001b[43m \u001b[49m\u001b[43mcopy\u001b[49m\u001b[38;5;241;43m=\u001b[39;49m\u001b[43mcopy\u001b[49m\u001b[43m,\u001b[49m\u001b[43m \u001b[49m\u001b[43mna_value\u001b[49m\u001b[38;5;241;43m=\u001b[39;49m\u001b[43mna_value\u001b[49m\u001b[43m)\u001b[49m\n\u001b[0;32m   1982\u001b[0m \u001b[38;5;28;01mif\u001b[39;00m result\u001b[38;5;241m.\u001b[39mdtype \u001b[38;5;129;01mis\u001b[39;00m \u001b[38;5;129;01mnot\u001b[39;00m dtype:\n\u001b[0;32m   1983\u001b[0m     result \u001b[38;5;241m=\u001b[39m np\u001b[38;5;241m.\u001b[39marray(result, dtype\u001b[38;5;241m=\u001b[39mdtype, copy\u001b[38;5;241m=\u001b[39m\u001b[38;5;28;01mFalse\u001b[39;00m)\n",
      "File \u001b[1;32m~\\AppData\\Local\\Programs\\Python\\Python311\\Lib\\site-packages\\pandas\\core\\internals\\managers.py:1693\u001b[0m, in \u001b[0;36mBlockManager.as_array\u001b[1;34m(self, dtype, copy, na_value)\u001b[0m\n\u001b[0;32m   1691\u001b[0m         arr\u001b[38;5;241m.\u001b[39mflags\u001b[38;5;241m.\u001b[39mwriteable \u001b[38;5;241m=\u001b[39m \u001b[38;5;28;01mFalse\u001b[39;00m\n\u001b[0;32m   1692\u001b[0m \u001b[38;5;28;01melse\u001b[39;00m:\n\u001b[1;32m-> 1693\u001b[0m     arr \u001b[38;5;241m=\u001b[39m \u001b[38;5;28;43mself\u001b[39;49m\u001b[38;5;241;43m.\u001b[39;49m\u001b[43m_interleave\u001b[49m\u001b[43m(\u001b[49m\u001b[43mdtype\u001b[49m\u001b[38;5;241;43m=\u001b[39;49m\u001b[43mdtype\u001b[49m\u001b[43m,\u001b[49m\u001b[43m \u001b[49m\u001b[43mna_value\u001b[49m\u001b[38;5;241;43m=\u001b[39;49m\u001b[43mna_value\u001b[49m\u001b[43m)\u001b[49m\n\u001b[0;32m   1694\u001b[0m     \u001b[38;5;66;03m# The underlying data was copied within _interleave, so no need\u001b[39;00m\n\u001b[0;32m   1695\u001b[0m     \u001b[38;5;66;03m# to further copy if copy=True or setting na_value\u001b[39;00m\n\u001b[0;32m   1697\u001b[0m \u001b[38;5;28;01mif\u001b[39;00m na_value \u001b[38;5;129;01mis\u001b[39;00m lib\u001b[38;5;241m.\u001b[39mno_default:\n",
      "File \u001b[1;32m~\\AppData\\Local\\Programs\\Python\\Python311\\Lib\\site-packages\\pandas\\core\\internals\\managers.py:1752\u001b[0m, in \u001b[0;36mBlockManager._interleave\u001b[1;34m(self, dtype, na_value)\u001b[0m\n\u001b[0;32m   1750\u001b[0m     \u001b[38;5;28;01melse\u001b[39;00m:\n\u001b[0;32m   1751\u001b[0m         arr \u001b[38;5;241m=\u001b[39m blk\u001b[38;5;241m.\u001b[39mget_values(dtype)\n\u001b[1;32m-> 1752\u001b[0m     \u001b[43mresult\u001b[49m\u001b[43m[\u001b[49m\u001b[43mrl\u001b[49m\u001b[38;5;241;43m.\u001b[39;49m\u001b[43mindexer\u001b[49m\u001b[43m]\u001b[49m \u001b[38;5;241m=\u001b[39m arr\n\u001b[0;32m   1753\u001b[0m     itemmask[rl\u001b[38;5;241m.\u001b[39mindexer] \u001b[38;5;241m=\u001b[39m \u001b[38;5;241m1\u001b[39m\n\u001b[0;32m   1755\u001b[0m \u001b[38;5;28;01mif\u001b[39;00m \u001b[38;5;129;01mnot\u001b[39;00m itemmask\u001b[38;5;241m.\u001b[39mall():\n",
      "\u001b[1;31mValueError\u001b[0m: could not convert string to float: 'cruiser'"
     ]
    }
   ],
   "source": [
    "corr_mat = data_raw.corr()\n",
    "corr_mat"
   ]
  },
  {
   "cell_type": "code",
   "execution_count": 26,
   "id": "6bb6d376-41d7-41bb-ab0f-eb081d74748a",
   "metadata": {
    "colab": {
     "base_uri": "https://localhost:8080/",
     "height": 270
    },
    "id": "6bb6d376-41d7-41bb-ab0f-eb081d74748a",
    "outputId": "8c590aac-7d55-4943-aee9-bec7440257b0"
   },
   "outputs": [
    {
     "ename": "NameError",
     "evalue": "name 'corr_mat' is not defined",
     "output_type": "error",
     "traceback": [
      "\u001b[1;31m---------------------------------------------------------------------------\u001b[0m",
      "\u001b[1;31mNameError\u001b[0m                                 Traceback (most recent call last)",
      "Cell \u001b[1;32mIn[26], line 1\u001b[0m\n\u001b[1;32m----> 1\u001b[0m sns\u001b[38;5;241m.\u001b[39mheatmap(\u001b[43mcorr_mat\u001b[49m, square\u001b[38;5;241m=\u001b[39m\u001b[38;5;28;01mTrue\u001b[39;00m, vmin\u001b[38;5;241m=\u001b[39m\u001b[38;5;241m-\u001b[39m\u001b[38;5;241m1\u001b[39m, vmax\u001b[38;5;241m=\u001b[39m\u001b[38;5;241m1\u001b[39m, cmap\u001b[38;5;241m=\u001b[39m\u001b[38;5;124m'\u001b[39m\u001b[38;5;124mcoolwarm\u001b[39m\u001b[38;5;124m'\u001b[39m)\n\u001b[0;32m      2\u001b[0m \u001b[38;5;28;01mpass\u001b[39;00m\n",
      "\u001b[1;31mNameError\u001b[0m: name 'corr_mat' is not defined"
     ]
    }
   ],
   "source": [
    "sns.heatmap(corr_mat, square=True, vmin=-1, vmax=1, cmap='coolwarm')\n",
    "pass"
   ]
  },
  {
   "cell_type": "markdown",
   "id": "f6d9d6f8",
   "metadata": {
    "id": "f6d9d6f8"
   },
   "source": [
    "Построим всевозможные диаграммы рассеивания для каждой пары переменных:"
   ]
  },
  {
   "cell_type": "code",
   "execution_count": 25,
   "id": "f1a9e652",
   "metadata": {
    "colab": {
     "base_uri": "https://localhost:8080/",
     "height": 567
    },
    "id": "f1a9e652",
    "outputId": "42f97a7f-c29b-4686-e636-92ee3b9852fb"
   },
   "outputs": [
    {
     "name": "stderr",
     "output_type": "stream",
     "text": [
      "No artists with labels found to put in legend.  Note that artists whose label start with an underscore are ignored when legend() is called with no argument.\n"
     ]
    },
    {
     "data": {
      "image/png": "[encoded data removed]",
      "text/plain": [
       "<Figure size 846.861x750 with 12 Axes>"
      ]
     },
     "metadata": {},
     "output_type": "display_data"
    }
   ],
   "source": [
    "np.random.seed(42)\n",
    "random_subset = np.random.choice(np.arange(data_raw.shape[0]), size=1000, replace=False)\n",
    "sns.pairplot(data_raw.iloc[random_subset], hue='binary_price', diag_kind='hist')\n",
    "plt.legend()\n",
    "pass"
   ]
  },
  {
   "cell_type": "markdown",
   "id": "fcbe3b12",
   "metadata": {
    "id": "fcbe3b12"
   },
   "source": [
    "##  3. Заполнение пропущенных значений "
   ]
  },
  {
   "cell_type": "markdown",
   "id": "9ede765f",
   "metadata": {
    "id": "9ede765f"
   },
   "source": [
    "Проверим, сколько пропущенных значений в каждом столбце матрицы:"
   ]
  },
  {
   "cell_type": "code",
   "execution_count": 22,
   "id": "311efabe",
   "metadata": {
    "colab": {
     "base_uri": "https://localhost:8080/"
    },
    "id": "311efabe",
    "outputId": "92e16896-9224-49ad-a44e-03349e2e5ce4"
   },
   "outputs": [
    {
     "data": {
      "text/plain": [
       "price           0\n",
       "brand           0\n",
       "model           0\n",
       "year            0\n",
       "title_status    0\n",
       "mileage         0\n",
       "color           0\n",
       "state           0\n",
       "country         0\n",
       "binary_price    0\n",
       "dtype: int64"
      ]
     },
     "execution_count": 22,
     "metadata": {},
     "output_type": "execute_result"
    }
   ],
   "source": [
    "data_raw.isna().sum()  "
   ]
  },
  {
   "cell_type": "markdown",
   "id": "e3e305cf",
   "metadata": {
    "id": "e3e305cf"
   },
   "source": [
    "## 4. Бинаризация номинальных признаков"
   ]
  },
  {
   "cell_type": "markdown",
   "id": "7084c3d9",
   "metadata": {
    "id": "7084c3d9"
   },
   "source": [
    "Алгоритмы из библиотеки scikit-learn (почти) не умеют работать напрямую с категориальными признаками. Поэтому их вначале надо закодировать с помощью числовых принаков. Скопируем нужные признаки в новую таблицу."
   ]
  },
  {
   "cell_type": "code",
   "execution_count": 20,
   "id": "83206e36",
   "metadata": {
    "id": "83206e36"
   },
   "outputs": [],
   "source": [
    "data_new = data_raw.loc[:, ['price', 'brand', 'model', 'year', 'title_status', \n",
    "                        'mileage', 'color', 'country', \n",
    "                        'binary_price']].copy()"
   ]
  },
  {
   "cell_type": "markdown",
   "id": "3bb119d4",
   "metadata": {
    "id": "3bb119d4"
   },
   "source": [
    "Бинарные признаки `'color'` и `'country'` заменим на числовые."
   ]
  },
  {
   "cell_type": "code",
   "execution_count": 21,
   "id": "3be0c460",
   "metadata": {
    "id": "3be0c460"
   },
   "outputs": [],
   "source": [
    "data_new['color'] = pd.factorize(data_new['color'])[0]\n",
    "data_new['country'] = pd.factorize(data_new['country'])[0]"
   ]
  },
  {
   "cell_type": "markdown",
   "id": "14f4329c",
   "metadata": {
    "id": "14f4329c"
   },
   "source": [
    "К небинарномым признакам `'title_status'`, `'model'` и `'brand'` применим метод бинаризации с помощью функции `get_dummies`:"
   ]
  },
  {
   "cell_type": "code",
   "execution_count": 24,
   "id": "e62ea44f",
   "metadata": {
    "colab": {
     "base_uri": "https://localhost:8080/",
     "height": 269
    },
    "id": "e62ea44f",
    "outputId": "4391ba8b-d4b8-49f7-e81f-bc2a48d6cd51"
   },
   "outputs": [
    {
     "data": {
      "text/html": [
       "<div>\n",
       "<style scoped>\n",
       "    .dataframe tbody tr th:only-of-type {\n",
       "        vertical-align: middle;\n",
       "    }\n",
       "\n",
       "    .dataframe tbody tr th {\n",
       "        vertical-align: top;\n",
       "    }\n",
       "\n",
       "    .dataframe thead th {\n",
       "        text-align: right;\n",
       "    }\n",
       "</style>\n",
       "<table border=\"1\" class=\"dataframe\">\n",
       "  <thead>\n",
       "    <tr style=\"text-align: right;\">\n",
       "      <th></th>\n",
       "      <th>clean vehicle</th>\n",
       "      <th>salvage insurance</th>\n",
       "    </tr>\n",
       "  </thead>\n",
       "  <tbody>\n",
       "    <tr>\n",
       "      <th>0</th>\n",
       "      <td>True</td>\n",
       "      <td>False</td>\n",
       "    </tr>\n",
       "    <tr>\n",
       "      <th>1</th>\n",
       "      <td>True</td>\n",
       "      <td>False</td>\n",
       "    </tr>\n",
       "    <tr>\n",
       "      <th>2</th>\n",
       "      <td>True</td>\n",
       "      <td>False</td>\n",
       "    </tr>\n",
       "    <tr>\n",
       "      <th>3</th>\n",
       "      <td>True</td>\n",
       "      <td>False</td>\n",
       "    </tr>\n",
       "    <tr>\n",
       "      <th>4</th>\n",
       "      <td>True</td>\n",
       "      <td>False</td>\n",
       "    </tr>\n",
       "    <tr>\n",
       "      <th>5</th>\n",
       "      <td>True</td>\n",
       "      <td>False</td>\n",
       "    </tr>\n",
       "    <tr>\n",
       "      <th>6</th>\n",
       "      <td>True</td>\n",
       "      <td>False</td>\n",
       "    </tr>\n",
       "  </tbody>\n",
       "</table>\n",
       "</div>"
      ],
      "text/plain": [
       "   clean vehicle  salvage insurance\n",
       "0           True              False\n",
       "1           True              False\n",
       "2           True              False\n",
       "3           True              False\n",
       "4           True              False\n",
       "5           True              False\n",
       "6           True              False"
      ]
     },
     "execution_count": 24,
     "metadata": {},
     "output_type": "execute_result"
    }
   ],
   "source": [
    "Title_Status_dummies = pd.get_dummies(data['title_status'])\n",
    "Title_Status_dummies.head(7)"
   ]
  },
  {
   "cell_type": "code",
   "execution_count": 23,
   "id": "be1a14bd",
   "metadata": {
    "colab": {
     "base_uri": "https://localhost:8080/",
     "height": 298
    },
    "id": "be1a14bd",
    "outputId": "7d730fcc-8880-4106-d965-12081109427e"
   },
   "outputs": [
    {
     "data": {
      "text/html": [
       "<div>\n",
       "<style scoped>\n",
       "    .dataframe tbody tr th:only-of-type {\n",
       "        vertical-align: middle;\n",
       "    }\n",
       "\n",
       "    .dataframe tbody tr th {\n",
       "        vertical-align: top;\n",
       "    }\n",
       "\n",
       "    .dataframe thead th {\n",
       "        text-align: right;\n",
       "    }\n",
       "</style>\n",
       "<table border=\"1\" class=\"dataframe\">\n",
       "  <thead>\n",
       "    <tr style=\"text-align: right;\">\n",
       "      <th></th>\n",
       "      <th>1500</th>\n",
       "      <th>2500</th>\n",
       "      <th>2500hd</th>\n",
       "      <th>300</th>\n",
       "      <th>3500</th>\n",
       "      <th>5</th>\n",
       "      <th>acadia</th>\n",
       "      <th>altima</th>\n",
       "      <th>armada</th>\n",
       "      <th>bus</th>\n",
       "      <th>...</th>\n",
       "      <th>van</th>\n",
       "      <th>vans</th>\n",
       "      <th>vehicl</th>\n",
       "      <th>versa</th>\n",
       "      <th>volt</th>\n",
       "      <th>wagon</th>\n",
       "      <th>x3</th>\n",
       "      <th>xd</th>\n",
       "      <th>xt5</th>\n",
       "      <th>xterra</th>\n",
       "    </tr>\n",
       "  </thead>\n",
       "  <tbody>\n",
       "    <tr>\n",
       "      <th>0</th>\n",
       "      <td>False</td>\n",
       "      <td>False</td>\n",
       "      <td>False</td>\n",
       "      <td>False</td>\n",
       "      <td>False</td>\n",
       "      <td>False</td>\n",
       "      <td>False</td>\n",
       "      <td>False</td>\n",
       "      <td>False</td>\n",
       "      <td>False</td>\n",
       "      <td>...</td>\n",
       "      <td>False</td>\n",
       "      <td>False</td>\n",
       "      <td>False</td>\n",
       "      <td>False</td>\n",
       "      <td>False</td>\n",
       "      <td>False</td>\n",
       "      <td>False</td>\n",
       "      <td>False</td>\n",
       "      <td>False</td>\n",
       "      <td>False</td>\n",
       "    </tr>\n",
       "    <tr>\n",
       "      <th>1</th>\n",
       "      <td>False</td>\n",
       "      <td>False</td>\n",
       "      <td>False</td>\n",
       "      <td>False</td>\n",
       "      <td>False</td>\n",
       "      <td>False</td>\n",
       "      <td>False</td>\n",
       "      <td>False</td>\n",
       "      <td>False</td>\n",
       "      <td>False</td>\n",
       "      <td>...</td>\n",
       "      <td>False</td>\n",
       "      <td>False</td>\n",
       "      <td>False</td>\n",
       "      <td>False</td>\n",
       "      <td>False</td>\n",
       "      <td>False</td>\n",
       "      <td>False</td>\n",
       "      <td>False</td>\n",
       "      <td>False</td>\n",
       "      <td>False</td>\n",
       "    </tr>\n",
       "    <tr>\n",
       "      <th>2</th>\n",
       "      <td>False</td>\n",
       "      <td>False</td>\n",
       "      <td>False</td>\n",
       "      <td>False</td>\n",
       "      <td>False</td>\n",
       "      <td>False</td>\n",
       "      <td>False</td>\n",
       "      <td>False</td>\n",
       "      <td>False</td>\n",
       "      <td>False</td>\n",
       "      <td>...</td>\n",
       "      <td>False</td>\n",
       "      <td>False</td>\n",
       "      <td>False</td>\n",
       "      <td>False</td>\n",
       "      <td>False</td>\n",
       "      <td>False</td>\n",
       "      <td>False</td>\n",
       "      <td>False</td>\n",
       "      <td>False</td>\n",
       "      <td>False</td>\n",
       "    </tr>\n",
       "    <tr>\n",
       "      <th>3</th>\n",
       "      <td>False</td>\n",
       "      <td>False</td>\n",
       "      <td>False</td>\n",
       "      <td>False</td>\n",
       "      <td>False</td>\n",
       "      <td>False</td>\n",
       "      <td>False</td>\n",
       "      <td>False</td>\n",
       "      <td>False</td>\n",
       "      <td>False</td>\n",
       "      <td>...</td>\n",
       "      <td>False</td>\n",
       "      <td>False</td>\n",
       "      <td>False</td>\n",
       "      <td>False</td>\n",
       "      <td>False</td>\n",
       "      <td>False</td>\n",
       "      <td>False</td>\n",
       "      <td>False</td>\n",
       "      <td>False</td>\n",
       "      <td>False</td>\n",
       "    </tr>\n",
       "    <tr>\n",
       "      <th>4</th>\n",
       "      <td>True</td>\n",
       "      <td>False</td>\n",
       "      <td>False</td>\n",
       "      <td>False</td>\n",
       "      <td>False</td>\n",
       "      <td>False</td>\n",
       "      <td>False</td>\n",
       "      <td>False</td>\n",
       "      <td>False</td>\n",
       "      <td>False</td>\n",
       "      <td>...</td>\n",
       "      <td>False</td>\n",
       "      <td>False</td>\n",
       "      <td>False</td>\n",
       "      <td>False</td>\n",
       "      <td>False</td>\n",
       "      <td>False</td>\n",
       "      <td>False</td>\n",
       "      <td>False</td>\n",
       "      <td>False</td>\n",
       "      <td>False</td>\n",
       "    </tr>\n",
       "    <tr>\n",
       "      <th>5</th>\n",
       "      <td>False</td>\n",
       "      <td>False</td>\n",
       "      <td>False</td>\n",
       "      <td>False</td>\n",
       "      <td>False</td>\n",
       "      <td>False</td>\n",
       "      <td>False</td>\n",
       "      <td>False</td>\n",
       "      <td>False</td>\n",
       "      <td>False</td>\n",
       "      <td>...</td>\n",
       "      <td>False</td>\n",
       "      <td>False</td>\n",
       "      <td>False</td>\n",
       "      <td>False</td>\n",
       "      <td>False</td>\n",
       "      <td>False</td>\n",
       "      <td>False</td>\n",
       "      <td>False</td>\n",
       "      <td>False</td>\n",
       "      <td>False</td>\n",
       "    </tr>\n",
       "    <tr>\n",
       "      <th>6</th>\n",
       "      <td>False</td>\n",
       "      <td>False</td>\n",
       "      <td>False</td>\n",
       "      <td>False</td>\n",
       "      <td>False</td>\n",
       "      <td>False</td>\n",
       "      <td>False</td>\n",
       "      <td>False</td>\n",
       "      <td>False</td>\n",
       "      <td>False</td>\n",
       "      <td>...</td>\n",
       "      <td>False</td>\n",
       "      <td>False</td>\n",
       "      <td>False</td>\n",
       "      <td>False</td>\n",
       "      <td>False</td>\n",
       "      <td>False</td>\n",
       "      <td>False</td>\n",
       "      <td>False</td>\n",
       "      <td>False</td>\n",
       "      <td>False</td>\n",
       "    </tr>\n",
       "  </tbody>\n",
       "</table>\n",
       "<p>7 rows × 127 columns</p>\n",
       "</div>"
      ],
      "text/plain": [
       "    1500   2500  2500hd    300   3500      5  acadia  altima  armada    bus  \\\n",
       "0  False  False   False  False  False  False   False   False   False  False   \n",
       "1  False  False   False  False  False  False   False   False   False  False   \n",
       "2  False  False   False  False  False  False   False   False   False  False   \n",
       "3  False  False   False  False  False  False   False   False   False  False   \n",
       "4   True  False   False  False  False  False   False   False   False  False   \n",
       "5  False  False   False  False  False  False   False   False   False  False   \n",
       "6  False  False   False  False  False  False   False   False   False  False   \n",
       "\n",
       "   ...    van   vans  vehicl  versa   volt  wagon     x3     xd    xt5  xterra  \n",
       "0  ...  False  False   False  False  False  False  False  False  False   False  \n",
       "1  ...  False  False   False  False  False  False  False  False  False   False  \n",
       "2  ...  False  False   False  False  False  False  False  False  False   False  \n",
       "3  ...  False  False   False  False  False  False  False  False  False   False  \n",
       "4  ...  False  False   False  False  False  False  False  False  False   False  \n",
       "5  ...  False  False   False  False  False  False  False  False  False   False  \n",
       "6  ...  False  False   False  False  False  False  False  False  False   False  \n",
       "\n",
       "[7 rows x 127 columns]"
      ]
     },
     "execution_count": 23,
     "metadata": {},
     "output_type": "execute_result"
    }
   ],
   "source": [
    "Model_dummies = pd.get_dummies(data['model'])\n",
    "Model_dummies.head(7)"
   ]
  },
  {
   "cell_type": "code",
   "execution_count": 16,
   "id": "ac72efc5",
   "metadata": {
    "colab": {
     "base_uri": "https://localhost:8080/",
     "height": 298
    },
    "id": "ac72efc5",
    "outputId": "f960693a-dc48-4889-c616-cf2169ccb90b"
   },
   "outputs": [
    {
     "data": {
      "text/html": [
       "<div>\n",
       "<style scoped>\n",
       "    .dataframe tbody tr th:only-of-type {\n",
       "        vertical-align: middle;\n",
       "    }\n",
       "\n",
       "    .dataframe tbody tr th {\n",
       "        vertical-align: top;\n",
       "    }\n",
       "\n",
       "    .dataframe thead th {\n",
       "        text-align: right;\n",
       "    }\n",
       "</style>\n",
       "<table border=\"1\" class=\"dataframe\">\n",
       "  <thead>\n",
       "    <tr style=\"text-align: right;\">\n",
       "      <th></th>\n",
       "      <th>acura</th>\n",
       "      <th>audi</th>\n",
       "      <th>bmw</th>\n",
       "      <th>buick</th>\n",
       "      <th>cadillac</th>\n",
       "      <th>chevrolet</th>\n",
       "      <th>chrysler</th>\n",
       "      <th>dodge</th>\n",
       "      <th>ford</th>\n",
       "      <th>gmc</th>\n",
       "      <th>...</th>\n",
       "      <th>land</th>\n",
       "      <th>lexus</th>\n",
       "      <th>lincoln</th>\n",
       "      <th>maserati</th>\n",
       "      <th>mazda</th>\n",
       "      <th>mercedes-benz</th>\n",
       "      <th>nissan</th>\n",
       "      <th>peterbilt</th>\n",
       "      <th>ram</th>\n",
       "      <th>toyota</th>\n",
       "    </tr>\n",
       "  </thead>\n",
       "  <tbody>\n",
       "    <tr>\n",
       "      <th>0</th>\n",
       "      <td>False</td>\n",
       "      <td>False</td>\n",
       "      <td>False</td>\n",
       "      <td>False</td>\n",
       "      <td>False</td>\n",
       "      <td>False</td>\n",
       "      <td>False</td>\n",
       "      <td>False</td>\n",
       "      <td>False</td>\n",
       "      <td>False</td>\n",
       "      <td>...</td>\n",
       "      <td>False</td>\n",
       "      <td>False</td>\n",
       "      <td>False</td>\n",
       "      <td>False</td>\n",
       "      <td>False</td>\n",
       "      <td>False</td>\n",
       "      <td>False</td>\n",
       "      <td>False</td>\n",
       "      <td>False</td>\n",
       "      <td>True</td>\n",
       "    </tr>\n",
       "    <tr>\n",
       "      <th>1</th>\n",
       "      <td>False</td>\n",
       "      <td>False</td>\n",
       "      <td>False</td>\n",
       "      <td>False</td>\n",
       "      <td>False</td>\n",
       "      <td>False</td>\n",
       "      <td>False</td>\n",
       "      <td>False</td>\n",
       "      <td>True</td>\n",
       "      <td>False</td>\n",
       "      <td>...</td>\n",
       "      <td>False</td>\n",
       "      <td>False</td>\n",
       "      <td>False</td>\n",
       "      <td>False</td>\n",
       "      <td>False</td>\n",
       "      <td>False</td>\n",
       "      <td>False</td>\n",
       "      <td>False</td>\n",
       "      <td>False</td>\n",
       "      <td>False</td>\n",
       "    </tr>\n",
       "    <tr>\n",
       "      <th>2</th>\n",
       "      <td>False</td>\n",
       "      <td>False</td>\n",
       "      <td>False</td>\n",
       "      <td>False</td>\n",
       "      <td>False</td>\n",
       "      <td>False</td>\n",
       "      <td>False</td>\n",
       "      <td>True</td>\n",
       "      <td>False</td>\n",
       "      <td>False</td>\n",
       "      <td>...</td>\n",
       "      <td>False</td>\n",
       "      <td>False</td>\n",
       "      <td>False</td>\n",
       "      <td>False</td>\n",
       "      <td>False</td>\n",
       "      <td>False</td>\n",
       "      <td>False</td>\n",
       "      <td>False</td>\n",
       "      <td>False</td>\n",
       "      <td>False</td>\n",
       "    </tr>\n",
       "    <tr>\n",
       "      <th>3</th>\n",
       "      <td>False</td>\n",
       "      <td>False</td>\n",
       "      <td>False</td>\n",
       "      <td>False</td>\n",
       "      <td>False</td>\n",
       "      <td>False</td>\n",
       "      <td>False</td>\n",
       "      <td>False</td>\n",
       "      <td>True</td>\n",
       "      <td>False</td>\n",
       "      <td>...</td>\n",
       "      <td>False</td>\n",
       "      <td>False</td>\n",
       "      <td>False</td>\n",
       "      <td>False</td>\n",
       "      <td>False</td>\n",
       "      <td>False</td>\n",
       "      <td>False</td>\n",
       "      <td>False</td>\n",
       "      <td>False</td>\n",
       "      <td>False</td>\n",
       "    </tr>\n",
       "    <tr>\n",
       "      <th>4</th>\n",
       "      <td>False</td>\n",
       "      <td>False</td>\n",
       "      <td>False</td>\n",
       "      <td>False</td>\n",
       "      <td>False</td>\n",
       "      <td>True</td>\n",
       "      <td>False</td>\n",
       "      <td>False</td>\n",
       "      <td>False</td>\n",
       "      <td>False</td>\n",
       "      <td>...</td>\n",
       "      <td>False</td>\n",
       "      <td>False</td>\n",
       "      <td>False</td>\n",
       "      <td>False</td>\n",
       "      <td>False</td>\n",
       "      <td>False</td>\n",
       "      <td>False</td>\n",
       "      <td>False</td>\n",
       "      <td>False</td>\n",
       "      <td>False</td>\n",
       "    </tr>\n",
       "    <tr>\n",
       "      <th>5</th>\n",
       "      <td>False</td>\n",
       "      <td>False</td>\n",
       "      <td>False</td>\n",
       "      <td>False</td>\n",
       "      <td>False</td>\n",
       "      <td>False</td>\n",
       "      <td>False</td>\n",
       "      <td>True</td>\n",
       "      <td>False</td>\n",
       "      <td>False</td>\n",
       "      <td>...</td>\n",
       "      <td>False</td>\n",
       "      <td>False</td>\n",
       "      <td>False</td>\n",
       "      <td>False</td>\n",
       "      <td>False</td>\n",
       "      <td>False</td>\n",
       "      <td>False</td>\n",
       "      <td>False</td>\n",
       "      <td>False</td>\n",
       "      <td>False</td>\n",
       "    </tr>\n",
       "    <tr>\n",
       "      <th>6</th>\n",
       "      <td>False</td>\n",
       "      <td>False</td>\n",
       "      <td>False</td>\n",
       "      <td>False</td>\n",
       "      <td>False</td>\n",
       "      <td>True</td>\n",
       "      <td>False</td>\n",
       "      <td>False</td>\n",
       "      <td>False</td>\n",
       "      <td>False</td>\n",
       "      <td>...</td>\n",
       "      <td>False</td>\n",
       "      <td>False</td>\n",
       "      <td>False</td>\n",
       "      <td>False</td>\n",
       "      <td>False</td>\n",
       "      <td>False</td>\n",
       "      <td>False</td>\n",
       "      <td>False</td>\n",
       "      <td>False</td>\n",
       "      <td>False</td>\n",
       "    </tr>\n",
       "  </tbody>\n",
       "</table>\n",
       "<p>7 rows × 28 columns</p>\n",
       "</div>"
      ],
      "text/plain": [
       "   acura   audi    bmw  buick  cadillac  chevrolet  chrysler  dodge   ford  \\\n",
       "0  False  False  False  False     False      False     False  False  False   \n",
       "1  False  False  False  False     False      False     False  False   True   \n",
       "2  False  False  False  False     False      False     False   True  False   \n",
       "3  False  False  False  False     False      False     False  False   True   \n",
       "4  False  False  False  False     False       True     False  False  False   \n",
       "5  False  False  False  False     False      False     False   True  False   \n",
       "6  False  False  False  False     False       True     False  False  False   \n",
       "\n",
       "     gmc  ...   land  lexus  lincoln  maserati  mazda  mercedes-benz  nissan  \\\n",
       "0  False  ...  False  False    False     False  False          False   False   \n",
       "1  False  ...  False  False    False     False  False          False   False   \n",
       "2  False  ...  False  False    False     False  False          False   False   \n",
       "3  False  ...  False  False    False     False  False          False   False   \n",
       "4  False  ...  False  False    False     False  False          False   False   \n",
       "5  False  ...  False  False    False     False  False          False   False   \n",
       "6  False  ...  False  False    False     False  False          False   False   \n",
       "\n",
       "   peterbilt    ram  toyota  \n",
       "0      False  False    True  \n",
       "1      False  False   False  \n",
       "2      False  False   False  \n",
       "3      False  False   False  \n",
       "4      False  False   False  \n",
       "5      False  False   False  \n",
       "6      False  False   False  \n",
       "\n",
       "[7 rows x 28 columns]"
      ]
     },
     "execution_count": 16,
     "metadata": {},
     "output_type": "execute_result"
    }
   ],
   "source": [
    "Brand_dummies = pd.get_dummies(data['brand'])\n",
    "Brand_dummies.head(7)"
   ]
  },
  {
   "cell_type": "markdown",
   "id": "51201ecd",
   "metadata": {
    "id": "51201ecd"
   },
   "source": [
    "Добавим эти dummy-столбцы к таблице и удалим соответствующие столбецы:"
   ]
  },
  {
   "cell_type": "code",
   "execution_count": 17,
   "id": "8d02a0ce",
   "metadata": {
    "id": "8d02a0ce"
   },
   "outputs": [
    {
     "ename": "NameError",
     "evalue": "name 'data_new' is not defined",
     "output_type": "error",
     "traceback": [
      "\u001b[1;31m---------------------------------------------------------------------------\u001b[0m",
      "\u001b[1;31mNameError\u001b[0m                                 Traceback (most recent call last)",
      "Cell \u001b[1;32mIn[17], line 1\u001b[0m\n\u001b[1;32m----> 1\u001b[0m data_new \u001b[38;5;241m=\u001b[39m pd\u001b[38;5;241m.\u001b[39mconcat((\u001b[43mdata_new\u001b[49m, Title_Status_dummies), axis\u001b[38;5;241m=\u001b[39m\u001b[38;5;241m1\u001b[39m)\n\u001b[0;32m      2\u001b[0m data_new \u001b[38;5;241m=\u001b[39m data_new\u001b[38;5;241m.\u001b[39mdrop([\u001b[38;5;124m'\u001b[39m\u001b[38;5;124mtitle_status\u001b[39m\u001b[38;5;124m'\u001b[39m], axis\u001b[38;5;241m=\u001b[39m\u001b[38;5;241m1\u001b[39m)\n\u001b[0;32m      3\u001b[0m data_new \u001b[38;5;241m=\u001b[39m pd\u001b[38;5;241m.\u001b[39mconcat((data_new, Model_dummies), axis\u001b[38;5;241m=\u001b[39m\u001b[38;5;241m1\u001b[39m)\n",
      "\u001b[1;31mNameError\u001b[0m: name 'data_new' is not defined"
     ]
    }
   ],
   "source": [
    "data_new = pd.concat((data_new, Title_Status_dummies), axis=1)\n",
    "data_new = data_new.drop(['title_status'], axis=1)\n",
    "data_new = pd.concat((data_new, Model_dummies), axis=1)\n",
    "data_new = data_new.drop(['model'], axis=1)\n",
    "data_new = pd.concat((data_new, Brand_dummies), axis=1)\n",
    "data_new = data_new.drop(['brand'], axis=1)"
   ]
  },
  {
   "cell_type": "code",
   "execution_count": null,
   "id": "8a0314e3",
   "metadata": {
    "colab": {
     "base_uri": "https://localhost:8080/",
     "height": 297
    },
    "id": "8a0314e3",
    "outputId": "d29e110b-c888-45fe-e108-b444d567685b"
   },
   "outputs": [],
   "source": [
    "data_new.head()"
   ]
  },
  {
   "cell_type": "markdown",
   "id": "1298fd82",
   "metadata": {
    "id": "1298fd82"
   },
   "source": [
    "## 5. Нормализация количественных признаков"
   ]
  },
  {
   "cell_type": "markdown",
   "id": "d81284e1",
   "metadata": {
    "id": "d81284e1"
   },
   "source": [
    "Перед применением алгоритмов машинного обучения количественные признаки нужно нормализовать. Выполним приведение всех признаков к отрезку $[0,1]$."
   ]
  },
  {
   "cell_type": "code",
   "execution_count": null,
   "id": "f2263663",
   "metadata": {
    "colab": {
     "base_uri": "https://localhost:8080/"
    },
    "id": "f2263663",
    "outputId": "da0fcf6f-5e2b-4650-f827-4bd8a52ef31f"
   },
   "outputs": [],
   "source": [
    "data_new.columns"
   ]
  },
  {
   "cell_type": "code",
   "execution_count": null,
   "id": "3d9336b9",
   "metadata": {
    "colab": {
     "base_uri": "https://localhost:8080/",
     "height": 411
    },
    "id": "3d9336b9",
    "outputId": "0799ed11-12fc-470c-c51b-eec063cab010"
   },
   "outputs": [],
   "source": [
    "data_norm = (data_new - data_new.min(axis=0)) / (data_new.max(axis=0) - data_new.min(axis=0))\n",
    "data_norm.describe()"
   ]
  },
  {
   "cell_type": "markdown",
   "id": "8c79718e",
   "metadata": {
    "id": "8c79718e"
   },
   "source": [
    "## 6. Отбор признаков\n",
    "Для предсказания стоимости автомобиля `'binary_price'` будем использовать все входные признаки кроме `'price'` и `'binary_price'`."
   ]
  },
  {
   "cell_type": "code",
   "execution_count": null,
   "id": "4c30df5c",
   "metadata": {
    "colab": {
     "base_uri": "https://localhost:8080/"
    },
    "id": "4c30df5c",
    "outputId": "0e24615e-75ed-462b-92ae-e5aad3089269"
   },
   "outputs": [],
   "source": [
    "data_norm.columns"
   ]
  },
  {
   "cell_type": "code",
   "execution_count": null,
   "id": "63b72af6",
   "metadata": {
    "id": "63b72af6"
   },
   "outputs": [],
   "source": [
    "X = data_norm.drop(['price', 'binary_price'], axis=1)\n",
    "y = data_norm['binary_price']"
   ]
  },
  {
   "cell_type": "code",
   "execution_count": null,
   "id": "d2cf5f96",
   "metadata": {
    "id": "d2cf5f96"
   },
   "outputs": [],
   "source": [
    "from sklearn.neighbors import KNeighborsClassifier\n",
    "from sklearn import neighbors\n",
    "from sklearn.model_selection import train_test_split"
   ]
  },
  {
   "cell_type": "markdown",
   "id": "41f4feb6",
   "metadata": {
    "id": "41f4feb6"
   },
   "source": [
    "Разобьем данные на обучающую и тестовую выборки в пропорции 3:1 (75% - обучающая выборка, 25% - тестовая):"
   ]
  },
  {
   "cell_type": "code",
   "execution_count": null,
   "id": "52769c4d",
   "metadata": {
    "colab": {
     "base_uri": "https://localhost:8080/"
    },
    "id": "52769c4d",
    "outputId": "f09706aa-59e9-4c6a-fd36-368c7891c2b3"
   },
   "outputs": [],
   "source": [
    "X_train, X_test, y_train, y_test = train_test_split(X, y, test_size = 0.25, \n",
    "                                                    random_state = 42)\n",
    "model = neighbors.KNeighborsClassifier(n_neighbors = 3)\n",
    "model.fit(X_train, y_train)\n",
    "y_test_pred = model.predict(X_test)\n",
    "\n",
    "N_train, _ = X_train.shape\n",
    "N_test, _ = X_test.shape\n",
    "N_train, N_test"
   ]
  },
  {
   "cell_type": "markdown",
   "id": "69fa7035",
   "metadata": {
    "id": "69fa7035"
   },
   "source": [
    "## 7. Классификатор ближайших соседей kNN"
   ]
  },
  {
   "cell_type": "code",
   "execution_count": null,
   "id": "01bac9df",
   "metadata": {
    "id": "01bac9df"
   },
   "outputs": [],
   "source": [
    "from sklearn import metrics"
   ]
  },
  {
   "cell_type": "code",
   "execution_count": null,
   "id": "d83f2ed6",
   "metadata": {
    "colab": {
     "base_uri": "https://localhost:8080/"
    },
    "id": "d83f2ed6",
    "outputId": "a4ec4dd1-c545-4c3e-f034-e42a6f88c4a9"
   },
   "outputs": [],
   "source": [
    "print(1 - metrics.accuracy_score(y_test, y_test_pred))\n",
    "print(np.mean(y_test != y_test_pred))"
   ]
  },
  {
   "cell_type": "code",
   "execution_count": null,
   "id": "bc9ad657",
   "metadata": {
    "colab": {
     "base_uri": "https://localhost:8080/"
    },
    "id": "bc9ad657",
    "outputId": "1c6eb541-c433-43b6-8ae6-99dece624edd"
   },
   "outputs": [],
   "source": [
    "print(1 - metrics.accuracy_score(y_test, y_test_pred))\n",
    "print(np.mean(y_test != y_test_pred))"
   ]
  },
  {
   "cell_type": "code",
   "execution_count": null,
   "id": "ae0bfc19",
   "metadata": {
    "id": "ae0bfc19"
   },
   "outputs": [],
   "source": [
    "k_range = range(1, 30)\n",
    "err_train = []\n",
    "err_test = []\n",
    "for k in k_range:\n",
    "    model = neighbors.KNeighborsClassifier(n_neighbors = k)\n",
    "    model.fit(X_train, y_train)\n",
    "    err_train.append(np.mean(model.predict(X_train) != y_train))\n",
    "    err_test.append(np.mean(model.predict(X_test) != y_test))"
   ]
  },
  {
   "cell_type": "code",
   "execution_count": null,
   "id": "07cf20c6",
   "metadata": {
    "colab": {
     "base_uri": "https://localhost:8080/",
     "height": 265
    },
    "id": "07cf20c6",
    "outputId": "3560d585-b640-41d2-be25-f1e8ab305b2b"
   },
   "outputs": [],
   "source": [
    "plt.plot(k_range, err_train, '.-r', label = 'Train error')\n",
    "plt.plot(k_range, err_test,  '.-b', label = 'Test error')    \n",
    "plt.legend(loc = 2)\n",
    "plt.xlim([30, 0])\n",
    "pass"
   ]
  },
  {
   "cell_type": "code",
   "execution_count": null,
   "id": "c0544a70",
   "metadata": {
    "colab": {
     "base_uri": "https://localhost:8080/"
    },
    "id": "c0544a70",
    "outputId": "bc6e52ba-dca4-47f7-8ba6-980773149e78"
   },
   "outputs": [],
   "source": [
    "print(min(err_test))\n",
    "print(err_train[k_range[err_test.index(min(err_test))]])\n",
    "print(k_range[err_test.index(min(err_test))])\n"
   ]
  },
  {
   "cell_type": "markdown",
   "id": "7a89537c",
   "metadata": {
    "id": "7a89537c"
   },
   "source": [
    "Получено оптимально число ближайших соседей - 17 c минимальным значением ошибки на тестовой выборке и соответствующем значением ошибки на обучающей выборке. Ввиду ненатренерованности модели ошибка на обучающей выборке ниже, чем на тестовой. При увеличении количества соседей ошибка на обучающей выборке ухудшается, но незначительно улучшается ошибка на тестовой до определенного числа соседей."
   ]
  },
  {
   "cell_type": "markdown",
   "id": "669a1804",
   "metadata": {
    "id": "669a1804"
   },
   "source": [
    "## 8. Случайный лес"
   ]
  },
  {
   "cell_type": "code",
   "execution_count": null,
   "id": "6a01207a",
   "metadata": {
    "colab": {
     "base_uri": "https://localhost:8080/"
    },
    "id": "6a01207a",
    "outputId": "a7fb9658-4735-4321-daec-032aa3fb34c7"
   },
   "outputs": [],
   "source": [
    "from sklearn.ensemble import RandomForestClassifier\n",
    "rf = RandomForestClassifier()\n",
    "rf.fit(X_train, y_train)\n",
    "\n",
    "err_train = np.mean(y_train != rf.predict(X_train))\n",
    "err_test  = np.mean(y_test  != rf.predict(X_test))\n",
    "\n",
    "print(\"error_train : {:.16f}, error_test: {:.16f} \".format(err_train, err_test))"
   ]
  },
  {
   "cell_type": "markdown",
   "id": "8fe63a3e",
   "metadata": {
    "id": "8fe63a3e"
   },
   "source": [
    "Алгоритм случайного леса оказался близок по точности с алгоритмом k-ближайших соседей при оптимальных параметрах каждого из методов на тестовой выборке, на обучающей значительно точнее. У тренировочной выборки ошибка мала и близка к нулю."
   ]
  },
  {
   "cell_type": "markdown",
   "id": "193cc8d4",
   "metadata": {
    "id": "193cc8d4"
   },
   "source": [
    "# 9 Выводы\n",
    "В работе производился анализ данных о стоимости автомобилей и решение задачи классификации с помощью моделей, которые были натренированы методами k-ближайших соседей и случайного леса. В ходе работы проведены:\n",
    "1. Вычисление основных статистических характеристик и их анализ\n",
    "2. Нормализация количественных признаков (с помощью линейного преобразования к отрезку [0, 1])\n",
    "3. Разбиение данных на обучающую и тестовую выборки\n",
    "4. Выбор алгоритма классификации и проверка качества модели\n",
    "5. Сравнение 2 моделей, алгоритм случайного леса оказался лучше метода к-ближайших соседей"
   ]
  }
 ],
 "metadata": {
  "colab": {
   "provenance": []
  },
  "kernelspec": {
   "display_name": "SCILEARN-KERNEL",
   "language": "python",
   "name": "scilearn-kernel"
  },
  "language_info": {
   "codemirror_mode": {
    "name": "ipython",
    "version": 3
   },
   "file_extension": ".py",
   "mimetype": "text/x-python",
   "name": "python",
   "nbconvert_exporter": "python",
   "pygments_lexer": "ipython3",
   "version": "3.11.7"
  }
 },
 "nbformat": 4,
 "nbformat_minor": 5
}
